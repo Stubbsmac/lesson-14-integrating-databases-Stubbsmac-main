{
 "cells": [
  {
   "cell_type": "markdown",
   "metadata": {},
   "source": [
    "# **Integrating Databases**\n",
    "This is our final regular assignment for the course. This notebook will demonstrate how you can connect to a SQL Server database using a programming language, and integrate that data into your program. For this demo we will be using Python since it is compatible with Jupyter Notebooks and is somewhat easy to read. You will not be expected to write ANY python for this assignment, you may have to mimic a process, but at most you will be copy/pasting and updating query scripts.\n",
    "\n",
    "To connect to a database using Python we must import the pyodbc library.\n",
    "\n",
    "### **Installing pyodbc**\n",
    "\n",
    "1. In VS Code use ctrl + ` (the key to the left of 1) to open the terminal\n",
    "2. Enter this command and hit enter: *pip install pyodbc* | If that does not work, try one of these\n",
    "  - py -m pip install pyodbc\n",
    "  - python -m pip install pyodbc\n",
    "  - python3 -m pip install pyodbc\n",
    "3. Once the terminal executes the command you are good to go. If you have trouble please reach out to your instructor."
   ]
  },
  {
   "cell_type": "code",
   "execution_count": 1,
   "metadata": {},
   "outputs": [],
   "source": [
    "# Import Needed Libraries\n",
    "import pyodbc"
   ]
  },
  {
   "cell_type": "markdown",
   "metadata": {},
   "source": [
    "When connecting to a database using a programming language, we usually need to use a *connection string*. A connection string is made up of the information needed to connect to a database, like the server, database name, and login information. The below cell stores information in a variable called connection_string that we can use to access the database you have been using all semester (besides recent modules.)\n",
    "\n",
    "Update the below cell to use the connection information outline in the SQL Server connection Info page in Canvas.\n",
    "\n",
    "* UID is same as login\n",
    "* PWD is password"
   ]
  },
  {
   "cell_type": "code",
   "execution_count": 13,
   "metadata": {},
   "outputs": [],
   "source": [
    "# Define connection string\n",
    "connection_string = (\n",
    "    'DRIVER={ODBC Driver 17 for SQL Server};'\n",
    "    'SERVER=cisfa24-2.ckwia8qkgyyj.us-east-1.rds.amazonaws.com;'  # Replace with your server name\n",
    "    'DATABASE=<ms0885011>;'  # Replace with your database name\n",
    "    'UID=<Ms0885011>;'  # Replace with your username\n",
    "    'PWD=<0885011>'  # Replace with your password\n",
    ")"
   ]
  },
  {
   "cell_type": "markdown",
   "metadata": {},
   "source": [
    "In the next cell, we are going to use the pyodbc module to try to establish a connection to the database. If everything in the previous cell was done correctly, then this cell should return \"Connection Successful\". If you get an error message, review the information you entered above."
   ]
  },
  {
   "cell_type": "code",
   "execution_count": 12,
   "metadata": {},
   "outputs": [
    {
     "name": "stdout",
     "output_type": "stream",
     "text": [
      "Connection error: [IM002] [Microsoft][ODBC Driver Manager] Data source name not found and no default driver specified (0) (SQLDriverConnect)\n"
     ]
    }
   ],
   "source": [
    "# Establish Connection\n",
    "try:\n",
    "    connection = pyodbc.connect(connection_string)\n",
    "    print('Connection Successful')\n",
    "except pyodbc.Error as ex:\n",
    "    sqlstate = ex.args[1]\n",
    "    print(f'Connection error: {sqlstate}')"
   ]
  },
  {
   "cell_type": "markdown",
   "metadata": {},
   "source": [
    "In Python, we use what's called a *cursor* object to interact with the database. The cursor contains functions for executing scripts, committing changes, and fetching records. We will be using all of these. The below cell will create a cursor object for us to use."
   ]
  },
  {
   "cell_type": "code",
   "execution_count": 11,
   "metadata": {},
   "outputs": [
    {
     "ename": "NameError",
     "evalue": "name 'connection' is not defined",
     "output_type": "error",
     "traceback": [
      "\u001b[1;31m---------------------------------------------------------------------------\u001b[0m",
      "\u001b[1;31mNameError\u001b[0m                                 Traceback (most recent call last)",
      "Cell \u001b[1;32mIn[11], line 2\u001b[0m\n\u001b[0;32m      1\u001b[0m \u001b[38;5;66;03m# Create a cursor object using the connection\u001b[39;00m\n\u001b[1;32m----> 2\u001b[0m cursor \u001b[38;5;241m=\u001b[39m \u001b[43mconnection\u001b[49m\u001b[38;5;241m.\u001b[39mcursor()\n",
      "\u001b[1;31mNameError\u001b[0m: name 'connection' is not defined"
     ]
    }
   ],
   "source": [
    "# Create a cursor object using the connection\n",
    "cursor = connection.cursor()"
   ]
  },
  {
   "cell_type": "markdown",
   "metadata": {},
   "source": [
    "Now that all of the setup is done, we can finally start running some queries. To start, we are going to write out our query and save it to a variable. We are using what is called an r-string, it stands for *raw-string literal*. When we put an r in front of our string, it disables escape and special characters so that the string is interpreted exactly as it is typed.\n",
    "\n",
    "The query that is in the below cell is returning all records from the products table in the guitar store system where the product_id is one. We use the execute() function of our cursor object to run the query. Running execute stores the returned data in the memory of the cursor.\n",
    "\n",
    "The fetchall() function is then used to pull all of the rows from the memory of the cursor and assign them to the rows variable that we set up. We know from experience that this query will only return one record, however, the fetchall() function always returns a list of rows, so to display the data we must loop through the returned list and output the data using print().\n",
    "\n",
    "The goal is not for you to be able to write Python to do something like this yourself, the goal is for you to examine the way that a different programming language interacts with SQL so that you can diagnose an issue or a need in a program, and then write the needed SQL script to resolve the need. In short, you only need to be able to read the Python and follow along, don't worry about writing anything on your own."
   ]
  },
  {
   "cell_type": "code",
   "execution_count": null,
   "metadata": {},
   "outputs": [],
   "source": [
    "# Example query\n",
    "query = r'SELECT * FROM gs_products WHERE product_id = 1'\n",
    "\n",
    "# Execute the query\n",
    "cursor.execute(query)\n",
    "\n",
    "# Fetch all rows from the executed query\n",
    "rows = cursor.fetchall()\n",
    "\n",
    "# Print row\n",
    "for row in rows:\n",
    "    print(row)"
   ]
  },
  {
   "cell_type": "markdown",
   "metadata": {},
   "source": [
    "By this time you should have been exposed to an object-oriented programming language (C#, Java, or Python), and know what a class is. If you need a refresher, classes are a programming tool that defines a collection of properties and functions to reduce redundancy in code by creating objects. In the below example I have defined a product class using Python. After running the below cell we will be able to create product objects in our code based off of the data in our database. This will make it much easier to interact with the data in our program.\n",
    "\n",
    "Note that I am creating a property in my class for each attribute in the related table."
   ]
  },
  {
   "cell_type": "code",
   "execution_count": null,
   "metadata": {},
   "outputs": [],
   "source": [
    "# Create a class to contain the contents of the row in a Python object\n",
    "class product:\n",
    "    def __init__(self, product_id,category_id,product_code,product_name,product_description,list_price,discount_percent,date_added):\n",
    "        self.product_id = product_id\n",
    "        self.category = category_id\n",
    "        self.product_code = product_code\n",
    "        self.product_name = product_name\n",
    "        self.product_description = product_description\n",
    "        self.list_price = list_price\n",
    "        self.discount_percent = discount_percent\n",
    "        self.date_added = date_added"
   ]
  },
  {
   "cell_type": "markdown",
   "metadata": {},
   "source": [
    "Now that our class is setup, we are going to use the same loop that we used earlier to save the data from cursor to a python object named product_info. We do this by passing each row property into the product constructor. We defined the constructor in the above cell using def __ init __, if you would like to review it.\n",
    "\n",
    "Run the below cell and read through it carefully so that you can get a feel for what is happening:\n",
    "* Looping through each row in the rows object from earlier\n",
    "* Creating an object named product_info\n",
    "* Setting the product_info object equal to a new instance of the product class\n",
    "* Product class constructor is using the data from the row that is currently selected by the for loop (There is only one row in the list, so the loop is only running once.)"
   ]
  },
  {
   "cell_type": "code",
   "execution_count": null,
   "metadata": {},
   "outputs": [],
   "source": [
    "# Save the contents of the row to a Python object\n",
    "for row in rows:\n",
    "    product_info = product(row.product_id,row.category_id,row.product_code,row.product_name,row.product_description,row.list_price,row.discount_percent,row.date_added)"
   ]
  },
  {
   "cell_type": "markdown",
   "metadata": {},
   "source": [
    "Now we can display a piece of information from our database using regular dot-notation to access the product_name property of our product_info object. All of this seems like a long process, but can be automated with functions and done very quickly. In a real program we would hide our SQL operations in functions that we could then call to make accessing the database extremely simple."
   ]
  },
  {
   "cell_type": "code",
   "execution_count": null,
   "metadata": {},
   "outputs": [],
   "source": [
    "# Display the product name by accessing the class property\n",
    "print(product_info.product_name)"
   ]
  },
  {
   "cell_type": "markdown",
   "metadata": {},
   "source": [
    "Speaking of simplicity, instead of writing entire queries to pull data into a program, we can write stored procedures that take parameters than will make our code much cleaner. In the below cell we are executing a query to create a stored procedure that we will call instead of hard-coding in a query. Review the SQL script that we are executing and note what it is doing."
   ]
  },
  {
   "cell_type": "code",
   "execution_count": null,
   "metadata": {},
   "outputs": [],
   "source": [
    "# Create a stored procedure to query for a product when given the product id\n",
    "query = r'CREATE PROCEDURE get_product_by_id @input_product_id INT AS BEGIN SELECT * FROM gs_products WHERE product_id = @input_product_id END'\n",
    "\n",
    "cursor.execute(query)\n",
    "\n",
    "cursor.commit()"
   ]
  },
  {
   "cell_type": "markdown",
   "metadata": {},
   "source": [
    "Since the above procedure accepts a parameter for product_id, this means that we can use a variable in our program to specify the product_id that we want to pull a product for. In the below cell we declare and assign a value to the product_id variable (4). In the following line we call our stored procedure using the EXEC keyword. Note that we are using an f-string instead of an r-string. This is because we are going to be incorporating the value of a variable into our query string. Instead of saying:\n",
    "\n",
    "EXEC get_product_by_id @input_product_id=4\n",
    "\n",
    "We are using a variable so that our code is more flexible and can be changed on the fly. This adds another layer of abstraction to our process. In a full program we would do the following:\n",
    "1. Write a stored procedure to pull data\n",
    "2. Write a function in our app to call the stored procedure, accepting product_id as an argument\n",
    "3. Get the product_id from the user or another processes\n",
    "4. Call the function that accesses the stored procedure and provide the selected product_id\n",
    "\n",
    "We are doing some of these steps, but spelling them out very deliberately so that we can examine the process.\n",
    "\n",
    "After the procedure is ran, we fetch all of the records (There is just one again). Then we save the data to an object and access the properties of that object to display the data."
   ]
  },
  {
   "cell_type": "code",
   "execution_count": null,
   "metadata": {},
   "outputs": [],
   "source": [
    "# Use the stored procedure to pull data into an object\n",
    "product_id = 4 # Specify product_id\n",
    "\n",
    "query = f'EXEC get_product_by_id @input_product_id={product_id}'\n",
    "\n",
    "cursor.execute(query)\n",
    "\n",
    "rows = cursor.fetchall()\n",
    "\n",
    "for row in rows:\n",
    "    product_info = product(row.product_id,row.category_id,row.product_code,row.product_name,row.product_description,row.list_price,row.discount_percent,row.date_added)\n",
    "\n",
    "print(f'The product related to id number {product_id} is: {product_info.product_name}.')"
   ]
  },
  {
   "cell_type": "markdown",
   "metadata": {},
   "source": [
    "Run the above cell again, but change the value of the product_id variable in the first line of code to be 5 or another number. This demonstrates how seamless it can be to pull data once we have everything set up correctly.\n",
    "\n",
    "The pyodbc library is very powerful. We can execute pretty much any SQL command using the execute() method. In the below cell we add a new record to the product table by writing an INSERT query and executing it."
   ]
  },
  {
   "cell_type": "code",
   "execution_count": null,
   "metadata": {},
   "outputs": [],
   "source": [
    "# Write a query to add new data to the product table\n",
    "query = r\"INSERT INTO gs_products VALUES (1,'yama','Yamaha F335 Acoustic','The F335 acoustic guitar from Yamaha is a stellar blend of quality, playability and affordability.',189.99,10,'2024-07-15')\"\n",
    "\n",
    "cursor.execute(query)\n",
    "\n",
    "cursor.commit()"
   ]
  },
  {
   "cell_type": "markdown",
   "metadata": {},
   "source": [
    "By integrating our database deeply into our programming we can even store each attribute value that needs inserted in it's own variable. Once stored we can use those variables in an f-string to construct our query like below. It looks like a lot to write, but you only have to set it up once, and then you can call this same script each time that you need to insert a record. All you would need to do it change the variable values to insert different data.\n",
    "\n",
    "In a full program this data would usually come from something a user types into a form, so once the program is developed, your involvement can be scaled back.\n",
    "\n",
    "Note that in the below cell we include ' (single quotes) within the \" (double quotes) when assigning values to our variables. This is because the SQL script we are saving in our query variable would expect for their to be single quotes around the values. We can include the single quotes in the variable values, or in the SQL statement. It does not matter which as long as it gets done."
   ]
  },
  {
   "cell_type": "code",
   "execution_count": null,
   "metadata": {},
   "outputs": [],
   "source": [
    "# Inserting new data using variables instead of a hard-coded string\n",
    "category_id = 3\n",
    "product_code = r\"'ludw'\"\n",
    "product_name = r\"'Ludwig BackBeat Elite'\"\n",
    "product_description = r\"'Ludwig’s BackBeat drum set was a hit for giving drummers a rock-solid foundation for their rhythmic aspirations'\"\n",
    "list_price = 799\n",
    "discount_percent = 15\n",
    "date_added = r\"'2024-07-16'\"\n",
    "\n",
    "# Use the variables to construct the query\n",
    "query = f'INSERT INTO gs_products VALUES({category_id},{product_code},{product_name},{product_description},{list_price},{discount_percent},{date_added})'\n",
    "\n",
    "# Execute and commit the query\n",
    "cursor.execute(query)\n",
    "\n",
    "cursor.commit()"
   ]
  },
  {
   "cell_type": "markdown",
   "metadata": {},
   "source": [
    "Now, let's go ahead and display all of the rows in the product table so that we can verify the insertion of our two new records."
   ]
  },
  {
   "cell_type": "code",
   "execution_count": null,
   "metadata": {},
   "outputs": [],
   "source": [
    "# Display all records in the gs_products table\n",
    "\n",
    "# Construct query\n",
    "query = r'SELECT * FROM gs_products'\n",
    "\n",
    "# Execute the query\n",
    "cursor.execute(query)\n",
    "\n",
    "# Fetch all rows from the executed query\n",
    "rows = cursor.fetchall()\n",
    "\n",
    "# Print row\n",
    "for row in rows:\n",
    "    print(row)"
   ]
  },
  {
   "cell_type": "markdown",
   "metadata": {},
   "source": [
    "### **Exercises**\n",
    "\n",
    "For the below exercises you will be writing SQL scripts and procedures to accompany the provided Python script. If it is easier, feel free to type up your SQL in Azure Data Studio and then paste it into the exercise.\n",
    "* Script all necessary procedures before running the provided Python script.\n",
    "* Create a new code cell for each procedure you are adding if it helps you stay organized.\n",
    "* If you successfully run an insert/delete statement, but need to run the python code an additional time to see if everything is working correctly, comment out the execution of the query that performs the addition/deletion.\n",
    "\n",
    "1. Review the below python script to assess the database needs. Then, in the following cell add two stored procedures to your database that will enable the python script to run correctly. You may **not** change anything in the python script."
   ]
  },
  {
   "cell_type": "code",
   "execution_count": null,
   "metadata": {},
   "outputs": [],
   "source": [
    "# Script to add a new category to the categories table and display all records. Do Not Change.\n",
    "category_name = 'Woodwinds'\n",
    "\n",
    "query_1 = f'EXEC add_new_category @category_name = {category_name}'\n",
    "query_2 = f'EXEC show_categories'\n",
    "\n",
    "# Add new record\n",
    "cursor.execute(query_1)\n",
    "\n",
    "# Display all records\n",
    "rows = cursor.execute(query_2)\n",
    "\n",
    "for row in rows:\n",
    "    print(row)"
   ]
  },
  {
   "cell_type": "code",
   "execution_count": null,
   "metadata": {},
   "outputs": [
    {
     "ename": "NameError",
     "evalue": "name 'cursor' is not defined",
     "output_type": "error",
     "traceback": [
      "\u001b[1;31m---------------------------------------------------------------------------\u001b[0m",
      "\u001b[1;31mNameError\u001b[0m                                 Traceback (most recent call last)",
      "Cell \u001b[1;32mIn[16], line 24\u001b[0m\n\u001b[0;32m      3\u001b[0m query \u001b[38;5;241m=\u001b[39m \u001b[38;5;124mr\u001b[39m\u001b[38;5;124m'''\u001b[39m\n\u001b[0;32m      4\u001b[0m \u001b[38;5;124mCREATE PROCEDURE add_new_category @category_name NVARCHAR(255) \u001b[39m\n\u001b[0;32m      5\u001b[0m \u001b[38;5;124mAS \u001b[39m\n\u001b[1;32m   (...)\u001b[0m\n\u001b[0;32m     20\u001b[0m \u001b[38;5;124mEND\u001b[39m\n\u001b[0;32m     21\u001b[0m \u001b[38;5;124m'''\u001b[39m\n\u001b[0;32m     23\u001b[0m \u001b[38;5;66;03m# Execute procedure\u001b[39;00m\n\u001b[1;32m---> 24\u001b[0m \u001b[43mcursor\u001b[49m\u001b[38;5;241m.\u001b[39mexecute(query)\n\u001b[0;32m     25\u001b[0m cursor\u001b[38;5;241m.\u001b[39mcommit()\n\u001b[0;32m     28\u001b[0m query \u001b[38;5;241m=\u001b[39m \u001b[38;5;124mr\u001b[39m\u001b[38;5;124m'''\u001b[39m\n\u001b[0;32m     29\u001b[0m \u001b[38;5;124mCREATE PROCEDURE show_categories\u001b[39m\n\u001b[0;32m     30\u001b[0m \u001b[38;5;124mAS \u001b[39m\n\u001b[1;32m   (...)\u001b[0m\n\u001b[0;32m     35\u001b[0m \u001b[38;5;124mEND\u001b[39m\n\u001b[0;32m     36\u001b[0m \u001b[38;5;124m'''\u001b[39m\n",
      "\u001b[1;31mNameError\u001b[0m: name 'cursor' is not defined"
     ]
    }
   ],
   "source": [
    "# Once again cannot get the server to connect nor run properly. Typing these out and hoping for the best. \n",
    "# \n",
    "# procedure 1\n",
    "# ereate procedure\n",
    "query = r'''\n",
    "CREATE PROCEDURE add_new_category @category_name NVARCHAR(255) \n",
    "AS \n",
    "BEGIN \n",
    "    IF NOT EXISTS ( \n",
    "        SELECT 1 \n",
    "        FROM categories \n",
    "        WHERE category_name = @category_name\n",
    "    ) \n",
    "    BEGIN \n",
    "        INSERT INTO categories (category_name) \n",
    "        VALUES (@category_name); \n",
    "    END \n",
    "    ELSE \n",
    "    BEGIN \n",
    "        PRINT 'Category already exists.'; \n",
    "    END \n",
    "END\n",
    "'''\n",
    "\n",
    "# execute procedure\n",
    "cursor.execute(query)\n",
    "cursor.commit()\n",
    "\n",
    "\n",
    "# procedure 2\n",
    "query2 = r'''\n",
    "CREATE PROCEDURE show_categories\n",
    "AS \n",
    "BEGIN \n",
    "    SELECT category_id, category_name \n",
    "    FROM categories \n",
    "    ORDER BY category_name;\n",
    "END\n",
    "'''\n",
    "\n",
    "# execute procedure\n",
    "cursor.execute(query2)\n",
    "cursor.commit()\n",
    "\n",
    "\n",
    "\n"
   ]
  },
  {
   "cell_type": "markdown",
   "metadata": {},
   "source": [
    "2. Review the below python script to assess the database needs. Then, in the following cell add two stored procedures to your database that will enable the python script to run correctly. You may **not** change anything in the python script."
   ]
  },
  {
   "cell_type": "code",
   "execution_count": null,
   "metadata": {},
   "outputs": [],
   "source": [
    "# Script to delete an item from an order when provided the item_id and display all records to verify deletion. Do Not Change\n",
    "item_id = 45\n",
    "\n",
    "query_1 = f'EXEC del_item_order @item_id = {item_id}'\n",
    "query_2 = f'EXEC show_order_items'\n",
    "\n",
    "# Delete a record\n",
    "cursor.execute(query_1)\n",
    "\n",
    "# Display all records\n",
    "rows = cursor.execute(query_2)\n",
    "\n",
    "for row in rows:\n",
    "    print(row)"
   ]
  },
  {
   "cell_type": "code",
   "execution_count": null,
   "metadata": {},
   "outputs": [],
   "source": [
    "\n",
    "# procedure 1\n",
    "# create procedure \n",
    "query = '''\n",
    "CREATE PROCEDURE del_item_order @item_id INT\n",
    "AS\n",
    "BEGIN\n",
    "    DELETE FROM order_items WHERE item_id = @item_id;\n",
    "END\n",
    "'''\n",
    "\n",
    "# execute the procedure\n",
    "cursor.execute(query)\n",
    "cursor.commit()\n",
    "\n",
    "# procedure 2\n",
    "# create procedure\n",
    "query2 = '''\n",
    "CREATE PROCEDURE show_order_items\n",
    "AS\n",
    "BEGIN\n",
    "    SELECT item_id, item_name, quantity, price FROM order_items ORDER BY item_id;\n",
    "END\n",
    "'''\n",
    "\n",
    "# execute procedure\n",
    "cursor.execute(query2)\n",
    "cursor.commit()\n",
    "\n"
   ]
  },
  {
   "cell_type": "markdown",
   "metadata": {},
   "source": [
    "3. Review the below python script to assess the database needs. Then, in the following cell add a stored procedure to your database that will enable the python script to run correctly. You may **not** change anything in the python script. Read through the script carefully to determine what fields your procedure should return."
   ]
  },
  {
   "cell_type": "code",
   "execution_count": null,
   "metadata": {},
   "outputs": [],
   "source": [
    "# Script to show the information about a customer that placed an order. Do Not Change.\n",
    "order_id = 10\n",
    "\n",
    "query_1 = f'EXEC get_order_info @order_id = {order_id}'\n",
    "\n",
    "# Retrieve order data\n",
    "cursor.execute(query_1)\n",
    "\n",
    "rows = cursor.fetchall()\n",
    "\n",
    "# Display Order data in nice format\n",
    "for row in rows:\n",
    "    print(f'Order#: {row.order_id}\\t{row.order_date}\\nCustomer: {row.first_name} {row.last_name}\\nEmail Address: {row.email_address}')"
   ]
  },
  {
   "cell_type": "code",
   "execution_count": null,
   "metadata": {},
   "outputs": [
    {
     "ename": "NameError",
     "evalue": "name 'cursor' is not defined",
     "output_type": "error",
     "traceback": [
      "\u001b[1;31m---------------------------------------------------------------------------\u001b[0m",
      "\u001b[1;31mNameError\u001b[0m                                 Traceback (most recent call last)",
      "Cell \u001b[1;32mIn[17], line 15\u001b[0m\n\u001b[0;32m      3\u001b[0m query \u001b[38;5;241m=\u001b[39m \u001b[38;5;124m'''\u001b[39m\n\u001b[0;32m      4\u001b[0m \u001b[38;5;124mCREATE PROCEDURE get_order_info @order_id INT\u001b[39m\n\u001b[0;32m      5\u001b[0m \u001b[38;5;124mAS\u001b[39m\n\u001b[1;32m   (...)\u001b[0m\n\u001b[0;32m     11\u001b[0m \u001b[38;5;124mEND\u001b[39m\n\u001b[0;32m     12\u001b[0m \u001b[38;5;124m'''\u001b[39m\n\u001b[0;32m     14\u001b[0m \u001b[38;5;66;03m# execute procedure\u001b[39;00m\n\u001b[1;32m---> 15\u001b[0m \u001b[43mcursor\u001b[49m\u001b[38;5;241m.\u001b[39mexecute(query)\n\u001b[0;32m     16\u001b[0m cursor\u001b[38;5;241m.\u001b[39mcommit()\n",
      "\u001b[1;31mNameError\u001b[0m: name 'cursor' is not defined"
     ]
    }
   ],
   "source": [
    "# procedure 1\n",
    "# create procedure\n",
    "query = '''\n",
    "CREATE PROCEDURE get_order_info @order_id INT\n",
    "AS\n",
    "BEGIN\n",
    "    SELECT o.order_id, o.order_date, c.first_name, c.last_name, c.email_address\n",
    "    FROM orders o\n",
    "    JOIN customers c ON o.customer_id = c.customer_id\n",
    "    WHERE o.order_id = @order_id;\n",
    "END\n",
    "'''\n",
    "\n",
    "# execute procedure\n",
    "cursor.execute(query)\n",
    "cursor.commit()\n"
   ]
  },
  {
   "cell_type": "markdown",
   "metadata": {},
   "source": [
    "### **Scenario**\n",
    "\n",
    "Review the below python script to assess the database needs. Then, in the following cell add the required stored procedure(s) to your database that will enable the python script to run correctly. You may **not** change anything in the python script. Don't forget that you can comment out query executions if they have ran successfully and you need to run queries further down in the cell.\n",
    "\n",
    "To assist with this exercise, below are the statements used to create the customer and address tables. Double click this cell for better readability:\n",
    "\n",
    "CREATE TABLE gs_customers (<br>\n",
    "  customer_id           INT            PRIMARY KEY   IDENTITY,<br>\n",
    "  email_address         VARCHAR(255)   NOT NULL      UNIQUE,<br>\n",
    "  customer_password     VARCHAR(60)    NOT NULL,<br>\n",
    "  first_name            VARCHAR(60)    NOT NULL,<br>\n",
    "  last_name             VARCHAR(60)    NOT NULL,<br>\n",
    "  shipping_address_id   INT                          DEFAULT NULL,<br>\n",
    "  billing_address_id    INT                          DEFAULT NULL<br>\n",
    ");<br>\n",
    "\n",
    "CREATE TABLE gs_addresses (<br>\n",
    "  address_id          INT            PRIMARY KEY   IDENTITY,<br>\n",
    "  customer_id         INT            REFERENCES gs_customers (customer_id),<br>\n",
    "  line1               VARCHAR(60)    NOT NULL,<br>\n",
    "  line2               VARCHAR(60)                  DEFAULT NULL,<br>\n",
    "  city                VARCHAR(40)    NOT NULL,<br>\n",
    "  state_code          VARCHAR(2)     NOT NULL,<br>\n",
    "  zip_code            VARCHAR(10)    NOT NULL,<br>\n",
    "  phone               VARCHAR(12)    NOT NULL,<br>\n",
    "  disabled_address     INT            NOT NULL      DEFAULT 0<br>\n",
    ");\n",
    "\n"
   ]
  },
  {
   "cell_type": "code",
   "execution_count": null,
   "metadata": {},
   "outputs": [],
   "source": [
    "# Script to add a new customer and address to the database\n",
    "email_address = 'test@email.com'\n",
    "customer_password = 'SecurePassword'\n",
    "first_name = 'Test'\n",
    "last_name = 'Testerman'\n",
    "line1 = '123 Test Street'\n",
    "line2 = 'Apt 123'\n",
    "city = 'Testville'\n",
    "state_code = 'MO'\n",
    "zip_code = '99999'\n",
    "phone = '1234567890'\n",
    "\n",
    "# Query to add a customer to the database\n",
    "query_1 = f\"EXEC add_customer @email_address = '{email_address}',@customer_password = '{customer_password}',@first_name = '{first_name}',@last_name = '{last_name}'\"\n",
    "\n",
    "# Run and commit query 1\n",
    "cursor.execute(query_1)\n",
    "\n",
    "cursor.commit()\n",
    "\n",
    "\n",
    "# Query to get the id of a customer using their email\n",
    "query_2 = f\"EXEC get_customer_id @email_address = '{email_address}'\"\n",
    "\n",
    "\n",
    "# Store the value from query 2 in a variable\n",
    "cursor.execute(query_2)\n",
    "\n",
    "rows = cursor.fetchall()\n",
    "\n",
    "for row in rows:\n",
    "    customer_id = row.customer_id\n",
    "\n",
    "\n",
    "# Query to add an address to the database\n",
    "query_3 = f\"EXEC add_address @customer_id = {customer_id},@line1 = '{line1}',@line2 = '{line2}',@city = '{city}',@state_code = '{state_code}',@zip_code = '{zip_code}',@phone = '{phone}'\"\n",
    "\n",
    "# Run and commit query 3\n",
    "cursor.execute(query_3)\n",
    "\n",
    "cursor.commit()\n",
    "\n",
    "# Verify insertion of address record by displaying all addresses\n",
    "query_4 = f\"EXEC get_addresses\"\n",
    "\n",
    "cursor.execute(query_4)\n",
    "\n",
    "rows = cursor.fetchall()\n",
    "\n",
    "for row in rows:\n",
    "    print(row)\n"
   ]
  },
  {
   "cell_type": "code",
   "execution_count": null,
   "metadata": {},
   "outputs": [],
   "source": [
    "\n",
    "# add customer procedure \n",
    "query = '''\n",
    "CREATE PROCEDURE add_customer \n",
    "    @email_address VARCHAR(255),\n",
    "    @customer_password VARCHAR(60),\n",
    "    @first_name VARCHAR(60),\n",
    "    @last_name VARCHAR(60)\n",
    "AS\n",
    "BEGIN\n",
    "    INSERT INTO gs_customers (email_address, customer_password, first_name, last_name)\n",
    "    VALUES (@email_address, @customer_password, @first_name, @last_name);\n",
    "END\n",
    "'''\n",
    "\n",
    "# execute procedure\n",
    "cursor.execute(query)\n",
    "cursor.commit()\n",
    "\n",
    "# get customer id procedure\n",
    "query2 = '''\n",
    "CREATE PROCEDURE get_customer_id \n",
    "    @email_address VARCHAR(255)\n",
    "AS\n",
    "BEGIN\n",
    "    SELECT customer_id FROM gs_customers WHERE email_address = @email_address;\n",
    "END\n",
    "'''\n",
    "\n",
    "# execute\n",
    "cursor.execute(query2)\n",
    "cursor.commit()\n",
    "\n",
    "\n",
    "\n",
    "# add address procedure\n",
    "query3 = '''\n",
    "CREATE PROCEDURE add_address \n",
    "    @customer_id INT,\n",
    "    @line1 VARCHAR(60),\n",
    "    @line2 VARCHAR(60),\n",
    "    @city VARCHAR(40),\n",
    "    @state_code VARCHAR(2),\n",
    "    @zip_code VARCHAR(10),\n",
    "    @phone VARCHAR(12)\n",
    "AS\n",
    "BEGIN\n",
    "    INSERT INTO gs_addresses (customer_id, line1, line2, city, state_code, zip_code, phone)\n",
    "    VALUES (@customer_id, @line1, @line2, @city, @state_code, @zip_code, @phone);\n",
    "END\n",
    "'''\n",
    "\n",
    "# execute\n",
    "cursor.execute(query3)\n",
    "cursor.commit()\n",
    "\n",
    "\n",
    "\n",
    "# add get addresses procedure\n",
    "query4 = '''\n",
    "CREATE PROCEDURE get_addresses\n",
    "AS\n",
    "BEGIN\n",
    "    SELECT address_id, customer_id, line1, line2, city, state_code, zip_code, phone \n",
    "    FROM gs_addresses\n",
    "    WHERE disabled_address = 0;\n",
    "END\n",
    "'''\n",
    "\n",
    "# execute\n",
    "cursor.execute(query4)\n",
    "cursor.commit()\n",
    "\n"
   ]
  },
  {
   "cell_type": "code",
   "execution_count": null,
   "metadata": {},
   "outputs": [],
   "source": [
    "# Use this cell to delete procedures if you make a mistake\n",
    "query_list = 'DROP PROCEDURE add_customer','DROP PROCEDURE get_customer_id','DROP PROCEDURE add_address','DROP PROCEDURE get_addresses'\n",
    "\n",
    "for query in query_list:\n",
    "    cursor.execute(query)\n",
    "    cursor.commit()"
   ]
  }
 ],
 "metadata": {
  "kernelspec": {
   "display_name": "Python 3",
   "language": "python",
   "name": "python3"
  },
  "language_info": {
   "codemirror_mode": {
    "name": "ipython",
    "version": 3
   },
   "file_extension": ".py",
   "mimetype": "text/x-python",
   "name": "python",
   "nbconvert_exporter": "python",
   "pygments_lexer": "ipython3",
   "version": "3.13.0"
  }
 },
 "nbformat": 4,
 "nbformat_minor": 2
}
